{
  "cells": [
    {
      "cell_type": "markdown",
      "metadata": {
        "id": "view-in-github",
        "colab_type": "text"
      },
      "source": [
        "<a href=\"https://colab.research.google.com/github/Zenith1997/MoviewSubtitleGenerator/blob/main/MToT.ipynb\" target=\"_parent\"><img src=\"https://colab.research.google.com/assets/colab-badge.svg\" alt=\"Open In Colab\"/></a>"
      ]
    },
    {
      "cell_type": "code",
      "execution_count": 2,
      "metadata": {
        "colab": {
          "base_uri": "https://localhost:8080/",
          "height": 558
        },
        "id": "Vf5MRqWQ522u",
        "outputId": "5a31eec7-f9c8-4643-f326-50cf9e15dc58"
      },
      "outputs": [
        {
          "metadata": {
            "tags": null
          },
          "name": "stdout",
          "output_type": "stream",
          "text": [
            "Requirement already satisfied: moviepy in /usr/local/lib/python3.10/dist-packages (1.0.3)\n",
            "Requirement already satisfied: decorator<5.0,>=4.0.2 in /usr/local/lib/python3.10/dist-packages (from moviepy) (4.4.2)\n",
            "Requirement already satisfied: tqdm<5.0,>=4.11.2 in /usr/local/lib/python3.10/dist-packages (from moviepy) (4.66.4)\n",
            "Requirement already satisfied: requests<3.0,>=2.8.1 in /usr/local/lib/python3.10/dist-packages (from moviepy) (2.31.0)\n",
            "Requirement already satisfied: proglog<=1.0.0 in /usr/local/lib/python3.10/dist-packages (from moviepy) (0.1.10)\n",
            "Requirement already satisfied: numpy>=1.17.3 in /usr/local/lib/python3.10/dist-packages (from moviepy) (1.25.2)\n",
            "Requirement already satisfied: imageio<3.0,>=2.5 in /usr/local/lib/python3.10/dist-packages (from moviepy) (2.31.6)\n",
            "Requirement already satisfied: imageio-ffmpeg>=0.2.0 in /usr/local/lib/python3.10/dist-packages (from moviepy) (0.5.1)\n",
            "Requirement already satisfied: pillow<10.1.0,>=8.3.2 in /usr/local/lib/python3.10/dist-packages (from imageio<3.0,>=2.5->moviepy) (9.4.0)\n",
            "Requirement already satisfied: setuptools in /usr/local/lib/python3.10/dist-packages (from imageio-ffmpeg>=0.2.0->moviepy) (67.7.2)\n",
            "Requirement already satisfied: charset-normalizer<4,>=2 in /usr/local/lib/python3.10/dist-packages (from requests<3.0,>=2.8.1->moviepy) (3.3.2)\n",
            "Requirement already satisfied: idna<4,>=2.5 in /usr/local/lib/python3.10/dist-packages (from requests<3.0,>=2.8.1->moviepy) (3.7)\n",
            "Requirement already satisfied: urllib3<3,>=1.21.1 in /usr/local/lib/python3.10/dist-packages (from requests<3.0,>=2.8.1->moviepy) (2.0.7)\n",
            "Requirement already satisfied: certifi>=2017.4.17 in /usr/local/lib/python3.10/dist-packages (from requests<3.0,>=2.8.1->moviepy) (2024.6.2)\n",
            "Requirement already satisfied: SpeechRecognition in /usr/local/lib/python3.10/dist-packages (3.10.4)\n",
            "Requirement already satisfied: requests>=2.26.0 in /usr/local/lib/python3.10/dist-packages (from SpeechRecognition) (2.31.0)\n",
            "Requirement already satisfied: typing-extensions in /usr/local/lib/python3.10/dist-packages (from SpeechRecognition) (4.12.2)\n",
            "Requirement already satisfied: charset-normalizer<4,>=2 in /usr/local/lib/python3.10/dist-packages (from requests>=2.26.0->SpeechRecognition) (3.3.2)\n",
            "Requirement already satisfied: idna<4,>=2.5 in /usr/local/lib/python3.10/dist-packages (from requests>=2.26.0->SpeechRecognition) (3.7)\n",
            "Requirement already satisfied: urllib3<3,>=1.21.1 in /usr/local/lib/python3.10/dist-packages (from requests>=2.26.0->SpeechRecognition) (2.0.7)\n",
            "Requirement already satisfied: certifi>=2017.4.17 in /usr/local/lib/python3.10/dist-packages (from requests>=2.26.0->SpeechRecognition) (2024.6.2)\n",
            "Requirement already satisfied: pydub in /usr/local/lib/python3.10/dist-packages (0.25.1)\n",
            "Mounted at /content/drive\n",
            "MoviePy - Writing audio in extracted_audio.wav\n"
          ]
        },
        {
          "metadata": {
            "tags": null
          },
          "name": "stderr",
          "output_type": "stream",
          "text": [
            ""
          ]
        },
        {
          "output_type": "stream",
          "name": "stdout",
          "text": [
            "MoviePy - Done.\n",
            "Chunk 18 could not be understood.\n",
            "Chunk 38 could not be understood.\n",
            "Chunk 39 could not be understood.\n",
            "Chunk 110 could not be understood.\n",
            "execution unit normally be defined as a block texts from some functions or simply we can see that as a arithmetic energy so in the parallel operations that means you have parallel resources to do everything together so sensitive very large instructions or super scale of processors are supporting this architecture super scale of processes have supported this out instructions what 68799 alright that's what you have to understand so can currently you cannot or something you cannot use this resources so that we have to understand very clearly when so I think I have given you an example for this very large instruction word example and one register file is yeah and multiple execution instructions all these things you can see the traditional number 111 Disney ice cream multiple instructions and the federal extensions instructions which can be completed 250 that is what we take as for pharmacy it's just not efficiency so next time it takes different parallel execution and now we are going to start these are Hardware basis instructions and conceptual representations and next we are going to discuss about how we can support from writing programs how can we write instructions if you have any questions any questions any question it seems that there are no questions that are know any questions Ann Arbor algorithms to be discussed now let me share those lights off all the different problems available we are going to take some problems which are commonly available as other people are getting and then we are going to look at complexity of those problems complex computer calculator Napa Valley 7 that is up about and dictator notation for the average age calculator normally when we consider about computer algorithm is a fundamentals of any computer science programs there are certain levels of problems available those problems are they can opener to have considered those problems like sorting problems Mendoza considered Tennessee post office the difference make it to parallel in easiest way some of the things we can do that but some of the things we cannot so how can we think in different weather today how many days this type of computer systems they have no point to active instructions for locus of control control parallel execution is control flow and data flow both can be seen the distributed uncontrollable those things can happen in different places no one knows what is happening in The Other Place one example of numbers examples like set of array of numbers adding numbers and the famous example that you have taken is 14 days of numbers together 1:30 p.m. that is the example taken here so we consider that there are any number of elements numbers industry I'll go to the Whiteboard assume that we have numbers like this V6 87 NBA numbers can you tell me three people at the same time there for suppose that one edition operation time tea now there are two complexities are considered in the complexity determination of algorithms we determine two types of complexities one is time complexity time complexity and complexity Space Station 1 Siamese representative this direction you take me to and we can see that one lights off so like that you are getting a date of Florida login like this no give me how how many operations 7 operation Saturday 4:50 operation 7:10 p.m. see suppose that you have in their lives here you have anything else of operations be considered as I'm completely considered because it's when any increases the time come also increases right the total time increase the complexity increase the size size increases when you have this direction number of operations I think now you can understand what this draft so let me go back to the slides again if there are any animals additions are proportional to the number of elements they are for the time taken as a proportion to the number of elements if people one edition Illustrated here the final result is coming now the word size of the world Situation Number of operations I'll go back to the Whiteboard again the same problem let me see this one okay I'll use the same item same item song hey Google Assistant I put it on top TV on here and Anthony Lee I was supposed to the full processors are there but if you do not have four processes you cannot do anything but you have to have resources available and these two can be added together by using another Edition like this baby so you can add these two things together love you have enough resources the last one no hear the result is coming out here we can see the results coming out from here at 48 numbers together yes yes the same number of elements are there what is the time taker how many cycles here you have taken one cycle the second cycle now so if there are any animals in animal cells number of operations for the size of the problem is going to be in minus 1 same what is the time complexity log in login login food here you can see we are not touching the size of the problem same number of elements but the times and flexibility we can reduce in this manner but the only thing is there a number of operations while you are at the spot you have to do in the next cycle or two cycle started right and these two has to be done in another cycle Turnpike motorcycle in this manner how many processes needed now that is a question is needed hello I'm asking a question how many minutes 10 by 2 years we need in divided by 2 number of minimum processes to complete it with the login scale to complete it within login scale right if the results are limited the same time improvements you have to understand the efficiency seen how the complexity can be reduced with this type of data Florida and how these things are happening let's go back to the north again how it happened when the number of processors how early I told you suppose that we have number of processors number of processors how the operations can be reduced or the steps can be reduced number of steps you have you have hey hey hey hey hey hey hey hey hey hey hey hey hey hey hey hey hey hey hey hey hey hey hey hey hey hey hey hey hey hey hey hey hey hey hey hey hey hey hey hey hey hey hey hey hey hey hey hey hey hey \n"
          ]
        },
        {
          "output_type": "display_data",
          "data": {
            "text/plain": [
              "<IPython.core.display.Javascript object>"
            ],
            "application/javascript": [
              "\n",
              "    async function download(id, filename, size) {\n",
              "      if (!google.colab.kernel.accessAllowed) {\n",
              "        return;\n",
              "      }\n",
              "      const div = document.createElement('div');\n",
              "      const label = document.createElement('label');\n",
              "      label.textContent = `Downloading \"${filename}\": `;\n",
              "      div.appendChild(label);\n",
              "      const progress = document.createElement('progress');\n",
              "      progress.max = size;\n",
              "      div.appendChild(progress);\n",
              "      document.body.appendChild(div);\n",
              "\n",
              "      const buffers = [];\n",
              "      let downloaded = 0;\n",
              "\n",
              "      const channel = await google.colab.kernel.comms.open(id);\n",
              "      // Send a message to notify the kernel that we're ready.\n",
              "      channel.send({})\n",
              "\n",
              "      for await (const message of channel.messages) {\n",
              "        // Send a message to notify the kernel that we're ready.\n",
              "        channel.send({})\n",
              "        if (message.buffers) {\n",
              "          for (const buffer of message.buffers) {\n",
              "            buffers.push(buffer);\n",
              "            downloaded += buffer.byteLength;\n",
              "            progress.value = downloaded;\n",
              "          }\n",
              "        }\n",
              "      }\n",
              "      const blob = new Blob(buffers, {type: 'application/binary'});\n",
              "      const a = document.createElement('a');\n",
              "      a.href = window.URL.createObjectURL(blob);\n",
              "      a.download = filename;\n",
              "      div.appendChild(a);\n",
              "      a.click();\n",
              "      div.remove();\n",
              "    }\n",
              "  "
            ]
          },
          "metadata": {}
        },
        {
          "output_type": "display_data",
          "data": {
            "text/plain": [
              "<IPython.core.display.Javascript object>"
            ],
            "application/javascript": [
              "download(\"download_0faa1514-8676-4c91-be16-55d8e92f9a40\", \"transcript.txt\", 6152)"
            ]
          },
          "metadata": {}
        }
      ],
      "source": [
        "# Install necessary libraries\n",
        "!pip install moviepy\n",
        "!pip install SpeechRecognition\n",
        "!pip install pydub\n",
        "\n",
        "# Import necessary libraries\n",
        "import moviepy.editor as mp\n",
        "import speech_recognition as sr\n",
        "from pydub import AudioSegment\n",
        "\n",
        "# Function to extract audio from the video file\n",
        "def extract_audio_from_video(video_file, audio_file):\n",
        "    video = mp.VideoFileClip(video_file)\n",
        "    video.audio.write_audiofile(audio_file)\n",
        "\n",
        "# Function to transcribe audio to text\n",
        "def transcribe_audio(audio_file):\n",
        "    recognizer = sr.Recognizer()\n",
        "    audio = AudioSegment.from_file(audio_file)\n",
        "\n",
        "    # Split audio into smaller chunks to avoid long transcription times\n",
        "    chunk_length_ms = 60000  # 1 minute\n",
        "    chunks = [audio[i:i+chunk_length_ms] for i in range(0, len(audio), chunk_length_ms)]\n",
        "\n",
        "    transcript = \"\"\n",
        "    for i, chunk in enumerate(chunks):\n",
        "        chunk.export(f\"chunk{i}.wav\", format=\"wav\")\n",
        "        with sr.AudioFile(f\"chunk{i}.wav\") as source:\n",
        "            audio_data = recognizer.record(source)\n",
        "            try:\n",
        "                text = recognizer.recognize_google(audio_data)\n",
        "                transcript += text + \" \"\n",
        "            except sr.UnknownValueError:\n",
        "                print(f\"Chunk {i} could not be understood.\")\n",
        "            except sr.RequestError as e:\n",
        "                print(f\"Could not request results from Google Speech Recognition service; {e}\")\n",
        "\n",
        "    return transcript\n",
        "\n",
        "# Function to process the video file and transcribe the audio\n",
        "def video_to_text(video_file):\n",
        "    audio_file = \"extracted_audio.wav\"\n",
        "    extract_audio_from_video(video_file, audio_file)\n",
        "    transcript = transcribe_audio(audio_file)\n",
        "    return transcript\n",
        "\n",
        "# Mount Google Drive\n",
        "from google.colab import drive\n",
        "drive.mount('/content/drive')\n",
        "\n",
        "# Path to your video file in Google Drive\n",
        "video_file = '/content/2021-08-09 08-33-22.mkv'\n",
        "\n",
        "# Transcribe the video\n",
        "transcript = video_to_text(video_file)\n",
        "print(transcript)\n",
        "\n",
        "# Save the transcript to a text file\n",
        "with open(\"transcript.txt\", \"w\") as text_file:\n",
        "    text_file.write(transcript)\n",
        "\n",
        "# Download the text file to your local machine\n",
        "from google.colab import files\n",
        "files.download(\"transcript.txt\")\n"
      ]
    }
  ],
  "metadata": {
    "colab": {
      "provenance": [],
      "authorship_tag": "ABX9TyOoPMcCaS0++YoepfmpU6BW",
      "include_colab_link": true
    },
    "kernelspec": {
      "display_name": "Python 3",
      "name": "python3"
    },
    "language_info": {
      "name": "python"
    }
  },
  "nbformat": 4,
  "nbformat_minor": 0
}